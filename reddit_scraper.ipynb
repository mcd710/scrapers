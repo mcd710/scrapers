{
 "cells": [
  {
   "cell_type": "code",
   "execution_count": 50,
   "metadata": {},
   "outputs": [],
   "source": [
    "import praw"
   ]
  },
  {
   "cell_type": "code",
   "execution_count": 51,
   "metadata": {},
   "outputs": [],
   "source": [
    "'''EDIT HERE'''\n",
    "SUBREDDIT_NAME = 'Anarcho_Capitalism'\n",
    "NUM_POSTS = 100"
   ]
  },
  {
   "cell_type": "code",
   "execution_count": 52,
   "metadata": {},
   "outputs": [],
   "source": [
    "SAVE_PATH = \"/Users/merieldoyle/Desktop/\" + SUBREDDIT_NAME + \"Comments.csv\"\n",
    "reddit = praw.Reddit(client_id='aeNsE9DAHf0OAfyFVRY4rQ', client_secret='5HX5Fa3yyYik39t3iYh9MuJu1lv2kg', user_agent='Scraper')"
   ]
  },
  {
   "cell_type": "code",
   "execution_count": 53,
   "metadata": {},
   "outputs": [
    {
     "name": "stdout",
     "output_type": "stream",
     "text": [
      "(100, 1)\n"
     ]
    }
   ],
   "source": [
    "import pandas as pd\n",
    "posts = []\n",
    "ml_subreddit = reddit.subreddit(SUBREDDIT_NAME)\n",
    "for post in ml_subreddit.hot(limit=NUM_POSTS):\n",
    "    posts.append([post.id])\n",
    "posts = pd.DataFrame(posts,columns=['id'])\n",
    "print(posts.shape)"
   ]
  },
  {
   "cell_type": "code",
   "execution_count": 54,
   "metadata": {},
   "outputs": [],
   "source": [
    "ids_ = list(posts['id'])"
   ]
  },
  {
   "cell_type": "code",
   "execution_count": 55,
   "metadata": {},
   "outputs": [
    {
     "name": "stdout",
     "output_type": "stream",
     "text": [
      "10\n",
      "20\n",
      "30\n",
      "40\n",
      "50\n",
      "60\n",
      "70\n",
      "80\n",
      "90\n",
      "100\n"
     ]
    }
   ],
   "source": [
    "comments = []\n",
    "counter = 0\n",
    "for i in ids_:\n",
    "    submission = reddit.submission(id=i)\n",
    "    counter += 1\n",
    "    submission.comments.replace_more(limit=0)\n",
    "    for top_level_comment in submission.comments.list():\n",
    "        comments.append(top_level_comment.body)\n",
    "    if counter % 10 == 0:\n",
    "        print(counter)"
   ]
  },
  {
   "cell_type": "code",
   "execution_count": 56,
   "metadata": {},
   "outputs": [],
   "source": [
    "hot_posts = reddit.subreddit(SUBREDDIT_NAME).hot(limit=NUM_POSTS)\n",
    "for post in hot_posts:\n",
    "    comments.append(post.title)\n",
    "comments_df = pd.DataFrame(comments,columns=['comments'])"
   ]
  },
  {
   "cell_type": "code",
   "execution_count": 57,
   "metadata": {},
   "outputs": [],
   "source": [
    "comments_df.to_csv(SAVE_PATH)"
   ]
  }
 ],
 "metadata": {
  "kernelspec": {
   "display_name": "Python 3",
   "language": "python",
   "name": "python3"
  },
  "language_info": {
   "codemirror_mode": {
    "name": "ipython",
    "version": 3
   },
   "file_extension": ".py",
   "mimetype": "text/x-python",
   "name": "python",
   "nbconvert_exporter": "python",
   "pygments_lexer": "ipython3",
   "version": "3.7.6"
  }
 },
 "nbformat": 4,
 "nbformat_minor": 4
}
